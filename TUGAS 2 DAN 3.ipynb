{
 "cells": [
  {
   "cell_type": "markdown",
   "metadata": {},
   "source": [
    "# TUGAS 2"
   ]
  },
  {
   "cell_type": "code",
   "execution_count": 47,
   "metadata": {},
   "outputs": [
    {
     "name": "stdout",
     "output_type": "stream",
     "text": [
      "[47, 47, 11, 95, 28, 7, 77, 31, 13, 94, 84, 29, 26, 69, 33, 82, 13, 67, 67, 60, 46, 42, 43, 15, 45, 13, 1, 64, 60, 53, 1, 83, 56, 57, 31, 79, 80, 28, 25, 48, 16, 8, 26, 66, 10, 40, 99, 60, 48, 78, 3, 74, 25, 82, 22, 76, 85, 45, 54, 88, 63, 36, 25, 50, 86, 85, 5, 83, 53, 99, 36, 8, 58, 69, 27, 86, 16, 79, 29, 40, 59, 3, 75, 55, 13, 90, 65, 59, 70, 94, 71, 83, 31, 78, 84, 64, 72, 66, 16, 57, 63, 89, 8, 51, 67, 62, 77, 99, 45, 73, 20, 80, 63, 50, 20, 37, 60, 76, 44, 2, 56, 55, 23, 36, 11, 44, 36, 18, 37, 59, 7, 55, 37, 75, 19, 5, 41, 78, 90, 92, 40, 62, 83, 2, 17, 99, 43, 32, 30, 76, 64, 98, 83, 58, 62, 8, 58, 20, 14, 25, 41, 81, 56, 78, 66, 35, 60, 62, 69, 43, 60, 38, 80, 26, 15, 48, 98, 72, 96, 7, 41, 91, 48, 7, 2, 96, 35, 39, 43, 91, 35, 40, 58, 57, 7, 79, 96, 56, 89, 35, 88, 65, 87, 56, 28, 26, 14, 34, 30, 61, 43, 3, 89, 24, 73, 91, 39, 18, 68, 94, 84, 48, 13, 98, 21, 17, 36, 70, 89, 33, 82, 84, 18, 23, 71, 41, 26, 85, 63, 71, 5, 82, 92, 55, 21, 37, 11, 23, 23, 77]\n"
     ]
    }
   ],
   "source": [
    "import random\n",
    "\n",
    "nilaiTugas = []\n",
    "for i in range(250):\n",
    "    nilaiTugas.append(random.randrange(1,100,1))\n",
    "\n",
    "print(nilaiTugas)\n"
   ]
  },
  {
   "cell_type": "code",
   "execution_count": 48,
   "metadata": {},
   "outputs": [
    {
     "name": "stdout",
     "output_type": "stream",
     "text": [
      "[47, 47, 11, 95, 7, 77, 31, 13, 29, 69, 33, 13, 67, 67, 43, 15, 45, 13, 1, 53, 1, 83, 57, 31, 79, 25, 99, 3, 25, 85, 45, 63, 25, 85, 5, 83, 53, 99, 69, 27, 79, 29, 59, 3, 75, 55, 13, 65, 59, 71, 83, 31, 57, 63, 89, 51, 67, 77, 99, 45, 73, 63, 37, 55, 23, 11, 37, 59, 7, 55, 37, 75, 19, 5, 41, 83, 17, 99, 43, 83, 25, 41, 81, 35, 69, 43, 15, 7, 41, 91, 7, 35, 39, 43, 91, 35, 57, 7, 79, 89, 35, 65, 87, 61, 43, 3, 89, 73, 91, 39, 13, 21, 17, 89, 33, 23, 71, 41, 85, 63, 71, 5, 55, 21, 37, 11, 23, 23, 77]\n"
     ]
    }
   ],
   "source": [
    "ganjil = []\n",
    "for n in nilaiTugas:\n",
    "    if n%2==1:\n",
    "        ganjil.append(n)\n",
    "print(ganjil)"
   ]
  },
  {
   "cell_type": "code",
   "execution_count": 55,
   "metadata": {},
   "outputs": [
    {
     "name": "stdout",
     "output_type": "stream",
     "text": [
      "73\n"
     ]
    }
   ],
   "source": [
    "lebih70=0\n",
    "for j in nilaiTugas:\n",
    "    if j>70:\n",
    "        lebih70=lebih70+1\n",
    "print(lebih70)"
   ]
  },
  {
   "cell_type": "code",
   "execution_count": 45,
   "metadata": {},
   "outputs": [
    {
     "data": {
      "text/plain": [
       "99"
      ]
     },
     "execution_count": 45,
     "metadata": {},
     "output_type": "execute_result"
    }
   ],
   "source": [
    "max(nilaiTugas)"
   ]
  },
  {
   "cell_type": "code",
   "execution_count": 33,
   "metadata": {},
   "outputs": [
    {
     "data": {
      "text/plain": [
       "1"
      ]
     },
     "execution_count": 33,
     "metadata": {},
     "output_type": "execute_result"
    }
   ],
   "source": [
    "min(nilaiTugas)"
   ]
  },
  {
   "cell_type": "code",
   "execution_count": 59,
   "metadata": {},
   "outputs": [
    {
     "name": "stdout",
     "output_type": "stream",
     "text": [
      "27.728097230066105\n"
     ]
    }
   ],
   "source": [
    "rata = sum(nilaiTugas)/len(nilaiTugas)\n",
    "std = []\n",
    "\n",
    "for k in nilaiTugas:\n",
    "    std.append((k-rata)**2)\n",
    "stde = sum(std)/len(nilaiTugas)\n",
    "\n",
    "stdev = math.sqrt(stde)\n",
    "print (stdev)"
   ]
  },
  {
   "cell_type": "code",
   "execution_count": 67,
   "metadata": {},
   "outputs": [
    {
     "name": "stdout",
     "output_type": "stream",
     "text": [
      "47\n"
     ]
    }
   ],
   "source": [
    "modus=nilaiTugas[0]\n",
    "jumlah=nilaiTugas.count(modus)\n",
    "for c in nilaiTugas:\n",
    "    jumlahC=nilaiTugas.count(n)\n",
    "    if jumlahC>jumlah:\n",
    "        modus=c\n",
    "        jumlah=jumlahC\n",
    "print(modus)"
   ]
  },
  {
   "cell_type": "markdown",
   "metadata": {},
   "source": [
    "# TUGAS 3"
   ]
  },
  {
   "cell_type": "code",
   "execution_count": 61,
   "metadata": {},
   "outputs": [
    {
     "name": "stdout",
     "output_type": "stream",
     "text": [
      "Barcelona berhasil merebut posisi puncak klasemen La Liga Spanyol seusai menang 4-2 atas Sevilla pada pertandingan pekan kesembilan di Stadion Camp Nou, Sabtu (20/10/2018) atau Minggu dini hari WIB. Barcelona membuka keunggulan pada menit ke-2 melalui gol yang dicetak oleh Philippe Coutinho. Lionel Messi menggandakan keunggulan Barcelona, 10 menit berselang.  Namun, nahas bagi Barcelona, karena Messi harus ditarik keluar pada menit ke-26 setelah mengalami cedera. Tanpa Messi, skor 2-0 bertahan hingga babak pertama berakhir.\n"
     ]
    }
   ],
   "source": [
    "paragraf = \"Barcelona berhasil merebut posisi puncak klasemen La Liga Spanyol seusai menang 4-2 atas Sevilla pada pertandingan pekan kesembilan di Stadion Camp Nou, Sabtu (20/10/2018) atau Minggu dini hari WIB. Barcelona membuka keunggulan pada menit ke-2 melalui gol yang dicetak oleh Philippe Coutinho. Lionel Messi menggandakan keunggulan Barcelona, 10 menit berselang.  Namun, nahas bagi Barcelona, karena Messi harus ditarik keluar pada menit ke-26 setelah mengalami cedera. Tanpa Messi, skor 2-0 bertahan hingga babak pertama berakhir.\"\n",
    "print(paragraf)"
   ]
  },
  {
   "cell_type": "code",
   "execution_count": 62,
   "metadata": {},
   "outputs": [
    {
     "name": "stdout",
     "output_type": "stream",
     "text": [
      "Barcelona berhasil merebut posisi puncak klasemen La Liga Spanyol seusai menang  atas Sevilla pada pertandingan pekan kesembilan di Stadion Camp Nou  Sabtu  atau Minggu dini hari WIB  Barcelona membuka keunggulan pada menit ke melalui gol yang dicetak oleh Philippe Coutinho  Lionel Messi menggandakan keunggulan Barcelona   menit berselang   Namun  nahas bagi Barcelona  karena Messi harus ditarik keluar pada menit ke setelah mengalami cedera  Tanpa Messi  skor  bertahan hingga babak pertama berakhir \n"
     ]
    }
   ],
   "source": [
    "paragraf = paragraf.replace('.', ' ')\n",
    "paragraf = paragraf.replace(',', ' ')\n",
    "paragraf = paragraf.replace('/', '')\n",
    "paragraf = paragraf.replace('(', '')\n",
    "paragraf = paragraf.replace(')', '')\n",
    "paragraf = paragraf.replace('-', '')\n",
    "paragraf = paragraf.replace('1', '')\n",
    "paragraf = paragraf.replace('2', '')\n",
    "paragraf = paragraf.replace('4', '')\n",
    "paragraf = paragraf.replace('6', '')\n",
    "paragraf = paragraf.replace('8', '')\n",
    "paragraf = paragraf.replace('0', '')\n",
    "print(paragraf)"
   ]
  },
  {
   "cell_type": "code",
   "execution_count": 64,
   "metadata": {},
   "outputs": [
    {
     "name": "stdout",
     "output_type": "stream",
     "text": [
      "['Barcelona', 'berhasil', 'merebut', 'posisi', 'puncak', 'klasemen', 'La', 'Liga', 'Spanyol', 'seusai', 'menang', 'atas', 'Sevilla', 'pada', 'pertandingan', 'pekan', 'kesembilan', 'di', 'Stadion', 'Camp', 'Nou', 'Sabtu', 'atau', 'Minggu', 'dini', 'hari', 'WIB', 'Barcelona', 'membuka', 'keunggulan', 'pada', 'menit', 'ke', 'melalui', 'gol', 'yang', 'dicetak', 'oleh', 'Philippe', 'Coutinho', 'Lionel', 'Messi', 'menggandakan', 'keunggulan', 'Barcelona', 'menit', 'berselang', 'Namun', 'nahas', 'bagi', 'Barcelona', 'karena', 'Messi', 'harus', 'ditarik', 'keluar', 'pada', 'menit', 'ke', 'setelah', 'mengalami', 'cedera', 'Tanpa', 'Messi', 'skor', 'bertahan', 'hingga', 'babak', 'pertama', 'berakhir']\n"
     ]
    }
   ],
   "source": [
    "paragraff = paragraf.split()\n",
    "paragraff= [i.strip() for i in paragraff]\n",
    "print(paragraff)"
   ]
  },
  {
   "cell_type": "code",
   "execution_count": 65,
   "metadata": {},
   "outputs": [
    {
     "name": "stdout",
     "output_type": "stream",
     "text": [
      "{'Barcelona': 4, 'berhasil': 1, 'merebut': 1, 'posisi': 1, 'puncak': 1, 'klasemen': 1, 'La': 1, 'Liga': 1, 'Spanyol': 1, 'seusai': 1, 'menang': 1, 'atas': 1, 'Sevilla': 1, 'pada': 3, 'pertandingan': 1, 'pekan': 1, 'kesembilan': 1, 'di': 1, 'Stadion': 1, 'Camp': 1, 'Nou': 1, 'Sabtu': 1, 'atau': 1, 'Minggu': 1, 'dini': 1, 'hari': 1, 'WIB': 1, 'membuka': 1, 'keunggulan': 2, 'menit': 3, 'ke': 2, 'melalui': 1, 'gol': 1, 'yang': 1, 'dicetak': 1, 'oleh': 1, 'Philippe': 1, 'Coutinho': 1, 'Lionel': 1, 'Messi': 3, 'menggandakan': 1, 'berselang': 1, 'Namun': 1, 'nahas': 1, 'bagi': 1, 'karena': 1, 'harus': 1, 'ditarik': 1, 'keluar': 1, 'setelah': 1, 'mengalami': 1, 'cedera': 1, 'Tanpa': 1, 'skor': 1, 'bertahan': 1, 'hingga': 1, 'babak': 1, 'pertama': 1, 'berakhir': 1}\n"
     ]
    }
   ],
   "source": [
    "paragrafff = {}\n",
    "for word in paragraff:\n",
    "    paragrafff[word] = paragraff.count(word)\n",
    "print(paragrafff)"
   ]
  },
  {
   "cell_type": "code",
   "execution_count": 66,
   "metadata": {},
   "outputs": [
    {
     "name": "stdout",
     "output_type": "stream",
     "text": [
      "Barcelona : 4\n",
      "berhasil : 1\n",
      "merebut : 1\n",
      "posisi : 1\n",
      "puncak : 1\n",
      "klasemen : 1\n",
      "La : 1\n",
      "Liga : 1\n",
      "Spanyol : 1\n",
      "seusai : 1\n",
      "menang : 1\n",
      "atas : 1\n",
      "Sevilla : 1\n",
      "pada : 3\n",
      "pertandingan : 1\n",
      "pekan : 1\n",
      "kesembilan : 1\n",
      "di : 1\n",
      "Stadion : 1\n",
      "Camp : 1\n",
      "Nou : 1\n",
      "Sabtu : 1\n",
      "atau : 1\n",
      "Minggu : 1\n",
      "dini : 1\n",
      "hari : 1\n",
      "WIB : 1\n",
      "membuka : 1\n",
      "keunggulan : 2\n",
      "menit : 3\n",
      "ke : 2\n",
      "melalui : 1\n",
      "gol : 1\n",
      "yang : 1\n",
      "dicetak : 1\n",
      "oleh : 1\n",
      "Philippe : 1\n",
      "Coutinho : 1\n",
      "Lionel : 1\n",
      "Messi : 3\n",
      "menggandakan : 1\n",
      "berselang : 1\n",
      "Namun : 1\n",
      "nahas : 1\n",
      "bagi : 1\n",
      "karena : 1\n",
      "harus : 1\n",
      "ditarik : 1\n",
      "keluar : 1\n",
      "setelah : 1\n",
      "mengalami : 1\n",
      "cedera : 1\n",
      "Tanpa : 1\n",
      "skor : 1\n",
      "bertahan : 1\n",
      "hingga : 1\n",
      "babak : 1\n",
      "pertama : 1\n",
      "berakhir : 1\n"
     ]
    }
   ],
   "source": [
    "for k,v in paragrafff.items():\n",
    "        print(k,':',v)"
   ]
  },
  {
   "cell_type": "code",
   "execution_count": null,
   "metadata": {},
   "outputs": [],
   "source": []
  }
 ],
 "metadata": {
  "kernelspec": {
   "display_name": "Python 3",
   "language": "python",
   "name": "python3"
  },
  "language_info": {
   "codemirror_mode": {
    "name": "ipython",
    "version": 3
   },
   "file_extension": ".py",
   "mimetype": "text/x-python",
   "name": "python",
   "nbconvert_exporter": "python",
   "pygments_lexer": "ipython3",
   "version": "3.7.0"
  }
 },
 "nbformat": 4,
 "nbformat_minor": 2
}
