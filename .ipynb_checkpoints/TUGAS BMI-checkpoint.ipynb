{
 "cells": [
  {
   "cell_type": "code",
   "execution_count": 10,
   "metadata": {},
   "outputs": [
    {
     "name": "stdout",
     "output_type": "stream",
     "text": [
      "Input height (cm) : 155\n",
      "Input weight (kg) : 45\n",
      "Body Mass Index :  18.730489073881373\n",
      "Masuk dalam kategori\n",
      "Normal (healthy weight)\n",
      "--Program Selesai--\n"
     ]
    }
   ],
   "source": [
    "height = float(input(\"Input height (cm) : \"))\n",
    "weight = float(input(\"Input weight (kg) : \"))\n",
    "meter = 100 # satuan cm ke m\n",
    "temp = height/meter # konversi cm ke m\n",
    "BMI = weight/(temp**2)\n",
    "print(\"Body Mass Index : \", BMI)\n",
    "print(\"Masuk dalam kategori\")\n",
    "\n",
    "if BMI<15:\n",
    "    print(\"Very severely underweight\")\n",
    "elif BMI>=15 and BMI<16:\n",
    "    print(\"Severely underweight\")\n",
    "elif BMI>=16 and BMI<18.5:\n",
    "    print(\"Underweight\")\n",
    "elif BMI>=18.5 and BMI<25:\n",
    "    print(\"Normal (healthy weight)\")\n",
    "elif BMI>=25 and BMI<30:\n",
    "    print(\"Overweight\")\n",
    "elif BMI>=30 and BMI<35:\n",
    "    print(\"Moderately obese\")\n",
    "elif BMI>=35 and BMI<40:\n",
    "    print(\"Severely obese\")\n",
    "else:\n",
    "    print(\"Very severely obese\")\n",
    "    \n",
    "print(\"--Program Selesai--\")"
   ]
  },
  {
   "cell_type": "code",
   "execution_count": null,
   "metadata": {},
   "outputs": [],
   "source": []
  }
 ],
 "metadata": {
  "kernelspec": {
   "display_name": "Python 3",
   "language": "python",
   "name": "python3"
  },
  "language_info": {
   "codemirror_mode": {
    "name": "ipython",
    "version": 3
   },
   "file_extension": ".py",
   "mimetype": "text/x-python",
   "name": "python",
   "nbconvert_exporter": "python",
   "pygments_lexer": "ipython3",
   "version": "3.7.0"
  }
 },
 "nbformat": 4,
 "nbformat_minor": 2
}
